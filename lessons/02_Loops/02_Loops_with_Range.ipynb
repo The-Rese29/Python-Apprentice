{
 "cells": [
  {
   "cell_type": "markdown",
   "metadata": {},
   "source": [
    "# The Range Object\n",
    "\n",
    "We've used `range()` a lot so far, so let's finally learn all of the details about it. \n",
    "\n",
    "As we've seen, `range()` is a way of creating a series of numbers:\n",
    "\n",
    "```python\n",
    "\n",
    "for i in range(10):\n",
    "    print(i)\n",
    "\n",
    "```\n",
    "\n",
    "But, `range()` doesn't actually *have* the number inside of it. It just creates them. For instance, \n",
    "see what happens if we print it, or ask for its type:"
   ]
  },
  {
   "cell_type": "code",
   "execution_count": 2,
   "metadata": {},
   "outputs": [
    {
     "name": "stdout",
     "output_type": "stream",
     "text": [
      "<class 'range'>\n",
      "range(0, 10)\n"
     ]
    }
   ],
   "source": [
    "# Run Me!\n",
    "\n",
    "a = range(10)\n",
    "\n",
    "print(type(a))\n",
    "print(a)\n"
   ]
  },
  {
   "cell_type": "markdown",
   "metadata": {},
   "source": [
    "Range doesn't store numbers because if you had a really big range, like `range(1_000_000_000_000)` you'd run out of memory. \n",
    "\n",
    "However, there is a way to get the numbers inside of it: convert it to a list: "
   ]
  },
  {
   "cell_type": "code",
   "execution_count": null,
   "metadata": {},
   "outputs": [],
   "source": [
    "print(list(range(10)))"
   ]
  },
  {
   "cell_type": "markdown",
   "metadata": {},
   "source": [
    "We will explain more about `list()` later, for now we will just use it to find out what numbers `range()` is producing. \n",
    "\n",
    "The `range()` actually can have one, two or three arguments. Here are the options: \n",
    "\n",
    "* `range(end)`: produce numbers from 0 to `end`\n",
    "* `range(start, end)`: produce numbers from `start` to `end`\n",
    "* `range(start, end, skip)`: produce numbers from `start` to `end`, skipping by `skip`\n",
    "\n",
    "So, here is how we can create odd numbers from 101 to 120:"
   ]
  },
  {
   "cell_type": "code",
   "execution_count": null,
   "metadata": {},
   "outputs": [],
   "source": [
    "list(range(101, 120, 2))"
   ]
  },
  {
   "cell_type": "markdown",
   "metadata": {},
   "source": [
    "What `range(101, 120, 2)` means is \"Start at 101 and skip numbers by 2 until 120`\n",
    "\n",
    "Notice that ``range()`` does not include the number you put at the end; it stops one before it. There is a good reason for this, but we'll have to explain later. \n",
    "\n",
    "## Test Yourself\n",
    "\n",
    "Print out all of the odd years between the year you were born and today. "
   ]
  },
  {
   "cell_type": "code",
   "execution_count": 9,
   "metadata": {},
   "outputs": [
    {
     "ename": "TypeError",
     "evalue": "range expected at least 1 argument, got 0",
     "output_type": "error",
     "traceback": [
      "\u001b[0;31m---------------------------------------------------------------------------\u001b[0m",
      "\u001b[0;31mTypeError\u001b[0m                                 Traceback (most recent call last)",
      "Cell \u001b[0;32mIn[9], line 5\u001b[0m\n\u001b[1;32m      3\u001b[0m \u001b[38;5;28;01mimport\u001b[39;00m \u001b[38;5;21;01mturtle\u001b[39;00m\n\u001b[1;32m      4\u001b[0m tina\u001b[38;5;241m=\u001b[39mturtle\u001b[38;5;241m.\u001b[39mTurtle()\n\u001b[0;32m----> 5\u001b[0m \u001b[38;5;28;01mfor\u001b[39;00m i \u001b[38;5;129;01min\u001b[39;00m \u001b[38;5;28;43mrange\u001b[39;49m\u001b[43m(\u001b[49m\u001b[43m)\u001b[49m:\n\u001b[1;32m      6\u001b[0m     (\u001b[38;5;28mlist\u001b[39m(\u001b[38;5;28mrange\u001b[39m(\u001b[38;5;241m2012\u001b[39m, \u001b[38;5;241m2024\u001b[39m, \u001b[38;5;241m2\u001b[39m)))\n\u001b[1;32m      7\u001b[0m \u001b[38;5;241m.\u001b[39m\u001b[38;5;241m.\u001b[39m\u001b[38;5;241m.\u001b[39m\n",
      "\u001b[0;31mTypeError\u001b[0m: range expected at least 1 argument, got 0"
     ]
    }
   ],
   "source": [
    "# Test yourself\n",
    "\n",
    "import turtle\n",
    "tina=turtle.Turtle()\n",
    "for i in range:\n",
    "    (list(range(2012, 2024, 2)))\n",
    "..."
   ]
  },
  {
   "cell_type": "markdown",
   "metadata": {},
   "source": [
    "## Badgers!\n",
    "\n",
    "[These Badgers](https://youtu.be/pzagBTcYsYQ?si=xr4QQ7ZkZBGow2j1) really like a program called Fizz Buzz, but they want their own version\n",
    "\n",
    "The normal rules for FizzBuzz are: \n",
    "\n",
    "    Write a function to list the integers from 1 to 30, but for every multiple of\n",
    "    3, write “Fizz”, and for every multiple of 5, write “Buzz”. For numbers which\n",
    "    are multiples of both 3 and 5, it should write “FizzBuzz”; for every other\n",
    "    number, it should print the number unchanged.\n",
    "\n",
    "Instead, here are the Badger rules: \n",
    "\n",
    "For the numbers from 1 to 30:\n",
    "\n",
    "* If the number is evenly divisible by 5, print '🦡 badger'\n",
    "* If the number is evenly divisible by 3, print '🍄 mushroom'\n",
    "* If the number is evenly divisible by both 3 and 5, print '🐍 snake!'\n",
    "* If it is divisible by neither, print the number.\n",
    "\n",
    "Bonus: write the program without using the ``or`` operator."
   ]
  },
  {
   "cell_type": "code",
   "execution_count": null,
   "metadata": {},
   "outputs": [],
   "source": [
    "# Badgers!\n",
    "\n",
    "for i in range(1, 31):\n",
    "    ...\n",
    " "
   ]
  },
  {
   "cell_type": "code",
   "execution_count": null,
   "metadata": {},
   "outputs": [],
   "source": []
  }
 ],
 "metadata": {
  "kernelspec": {
   "display_name": ".venv",
   "language": "python",
   "name": "python3"
  },
  "language_info": {
   "codemirror_mode": {
    "name": "ipython",
    "version": 3
   },
   "file_extension": ".py",
   "mimetype": "text/x-python",
   "name": "python",
   "nbconvert_exporter": "python",
   "pygments_lexer": "ipython3",
   "version": "3.12.4"
  }
 },
 "nbformat": 4,
 "nbformat_minor": 2
}
